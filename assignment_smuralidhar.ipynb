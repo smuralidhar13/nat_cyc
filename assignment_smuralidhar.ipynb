{
 "cells": [
  {
   "cell_type": "markdown",
   "id": "a78c8e27-e0ab-4502-b9ff-126194880ad9",
   "metadata": {},
   "source": [
    "## Take home assignment - NC\n",
    "\n",
    "This notebook contains the assignment for Natural Cycles take home assignment.\n"
   ]
  },
  {
   "cell_type": "code",
   "execution_count": null,
   "id": "15838eab-03cc-4091-9dc4-65fb4099e164",
   "metadata": {},
   "outputs": [],
   "source": []
  }
 ],
 "metadata": {
  "kernelspec": {
   "display_name": "Python [conda env:base_ds_env] *",
   "language": "python",
   "name": "conda-env-base_ds_env-py"
  },
  "language_info": {
   "codemirror_mode": {
    "name": "ipython",
    "version": 3
   },
   "file_extension": ".py",
   "mimetype": "text/x-python",
   "name": "python",
   "nbconvert_exporter": "python",
   "pygments_lexer": "ipython3",
   "version": "3.10.17"
  }
 },
 "nbformat": 4,
 "nbformat_minor": 5
}
